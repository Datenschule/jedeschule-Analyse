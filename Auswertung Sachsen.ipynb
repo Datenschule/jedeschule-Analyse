{
 "cells": [
  {
   "cell_type": "markdown",
   "metadata": {},
   "source": [
    "<img src=\"datenschule_logo_web.png\" width=\"25%\"  align=\"left\">"
   ]
  },
  {
   "cell_type": "markdown",
   "metadata": {},
   "source": [
    "<img src=\"Coat_of_arms_of_Saxony.svg\" width=\"12%\"  align=\"right\">\n",
    "# Aktivitäten und Partnerschaften an Schulen in Sachsen\n",
    "In diesem Notebook dokumnetieren wir unser Vorgehen bei der Auswertung der Partnerschaften und Aktivitäten <br> der Schulen in Sachsen. Da wir die Daten auf der Website laufend aktualisiert, können die Ergebnisse hier von denen <br> auf der Website abweichen. Der Berechnungsweg ist allerdings der Gleiche.<br>\n",
    "Mehr Informationen über das Schulsystem in Deutschland gibt es auf <a href='https://jedeschule.de'>jedeschule.de<a>"
   ]
  },
  {
   "cell_type": "code",
   "execution_count": 1,
   "metadata": {
    "collapsed": true
   },
   "outputs": [],
   "source": [
    "#Für die Berechnung nutzen wir hier die Pandas-Library\n",
    "import pandas as pd"
   ]
  },
  {
   "cell_type": "markdown",
   "metadata": {},
   "source": [
    "### 1. Auswertung der Schulaktivitäten an Schulen in Sachsen"
   ]
  },
  {
   "cell_type": "code",
   "execution_count": 2,
   "metadata": {
    "collapsed": true
   },
   "outputs": [],
   "source": [
    "df_Sachsen = pd.read_csv('../ag_sachsen.csv', sep=',')"
   ]
  },
  {
   "cell_type": "markdown",
   "metadata": {},
   "source": [
    "Zunächst werden die CSV-Datei zu den Aktivitäten an Shculen iN Sachsen importiert. Die Daten liegen in unserem Github Ordner."
   ]
  },
  {
   "cell_type": "code",
   "execution_count": 3,
   "metadata": {
    "collapsed": false
   },
   "outputs": [
    {
     "data": {
      "text/html": [
       "<div>\n",
       "<table border=\"1\" class=\"dataframe\">\n",
       "  <thead>\n",
       "    <tr style=\"text-align: right;\">\n",
       "      <th></th>\n",
       "      <th>id</th>\n",
       "      <th>ag_name</th>\n",
       "      <th>ag_cat</th>\n",
       "      <th>school</th>\n",
       "    </tr>\n",
       "  </thead>\n",
       "  <tbody>\n",
       "    <tr>\n",
       "      <th>0</th>\n",
       "      <td>SN-4220216-0</td>\n",
       "      <td>Gesellschaftsspiele</td>\n",
       "      <td>Gesellschaft / Partizipation</td>\n",
       "      <td>4220216</td>\n",
       "    </tr>\n",
       "    <tr>\n",
       "      <th>1</th>\n",
       "      <td>SN-4220216-0</td>\n",
       "      <td>Schülerclub</td>\n",
       "      <td>Gesellschaft / Partizipation</td>\n",
       "      <td>4220216</td>\n",
       "    </tr>\n",
       "    <tr>\n",
       "      <th>2</th>\n",
       "      <td>SN-4220216-0</td>\n",
       "      <td>Schülerbibliothek</td>\n",
       "      <td>Literatur / Medien</td>\n",
       "      <td>4220216</td>\n",
       "    </tr>\n",
       "    <tr>\n",
       "      <th>3</th>\n",
       "      <td>SN-4220216-0</td>\n",
       "      <td>Offenes Spielangebot</td>\n",
       "      <td>Berufsorientierung</td>\n",
       "      <td>4220216</td>\n",
       "    </tr>\n",
       "    <tr>\n",
       "      <th>4</th>\n",
       "      <td>SN-4220216-0</td>\n",
       "      <td>Allgemeiner Freizeitsport</td>\n",
       "      <td>Sport</td>\n",
       "      <td>4220216</td>\n",
       "    </tr>\n",
       "  </tbody>\n",
       "</table>\n",
       "</div>"
      ],
      "text/plain": [
       "             id                    ag_name                        ag_cat  \\\n",
       "0  SN-4220216-0        Gesellschaftsspiele  Gesellschaft / Partizipation   \n",
       "1  SN-4220216-0                Schülerclub  Gesellschaft / Partizipation   \n",
       "2  SN-4220216-0          Schülerbibliothek            Literatur / Medien   \n",
       "3  SN-4220216-0       Offenes Spielangebot            Berufsorientierung   \n",
       "4  SN-4220216-0  Allgemeiner Freizeitsport                         Sport   \n",
       "\n",
       "    school  \n",
       "0  4220216  \n",
       "1  4220216  \n",
       "2  4220216  \n",
       "3  4220216  \n",
       "4  4220216  "
      ]
     },
     "execution_count": 3,
     "metadata": {},
     "output_type": "execute_result"
    }
   ],
   "source": [
    "df_Sachsen.head(5)"
   ]
  },
  {
   "cell_type": "markdown",
   "metadata": {},
   "source": [
    "Zu Beginn einer Analyse ist es sinnvoll, einen Überblick über die Daten zu gewinnen."
   ]
  },
  {
   "cell_type": "code",
   "execution_count": 4,
   "metadata": {
    "collapsed": false
   },
   "outputs": [
    {
     "data": {
      "text/html": [
       "<div>\n",
       "<table border=\"1\" class=\"dataframe\">\n",
       "  <thead>\n",
       "    <tr style=\"text-align: right;\">\n",
       "      <th></th>\n",
       "      <th>id</th>\n",
       "      <th>ag_name</th>\n",
       "      <th>ag_cat</th>\n",
       "      <th>school</th>\n",
       "    </tr>\n",
       "  </thead>\n",
       "  <tbody>\n",
       "    <tr>\n",
       "      <th>count</th>\n",
       "      <td>11633</td>\n",
       "      <td>11633</td>\n",
       "      <td>11633</td>\n",
       "      <td>1.163300e+04</td>\n",
       "    </tr>\n",
       "    <tr>\n",
       "      <th>unique</th>\n",
       "      <td>1206</td>\n",
       "      <td>164</td>\n",
       "      <td>10</td>\n",
       "      <td>NaN</td>\n",
       "    </tr>\n",
       "    <tr>\n",
       "      <th>top</th>\n",
       "      <td>SN-4540340-0</td>\n",
       "      <td>Chor</td>\n",
       "      <td>Sport</td>\n",
       "      <td>NaN</td>\n",
       "    </tr>\n",
       "    <tr>\n",
       "      <th>freq</th>\n",
       "      <td>50</td>\n",
       "      <td>579</td>\n",
       "      <td>3203</td>\n",
       "      <td>NaN</td>\n",
       "    </tr>\n",
       "    <tr>\n",
       "      <th>mean</th>\n",
       "      <td>NaN</td>\n",
       "      <td>NaN</td>\n",
       "      <td>NaN</td>\n",
       "      <td>4.317592e+06</td>\n",
       "    </tr>\n",
       "    <tr>\n",
       "      <th>std</th>\n",
       "      <td>NaN</td>\n",
       "      <td>NaN</td>\n",
       "      <td>NaN</td>\n",
       "      <td>1.324859e+05</td>\n",
       "    </tr>\n",
       "    <tr>\n",
       "      <th>min</th>\n",
       "      <td>NaN</td>\n",
       "      <td>NaN</td>\n",
       "      <td>NaN</td>\n",
       "      <td>4.050019e+06</td>\n",
       "    </tr>\n",
       "    <tr>\n",
       "      <th>25%</th>\n",
       "      <td>NaN</td>\n",
       "      <td>NaN</td>\n",
       "      <td>NaN</td>\n",
       "      <td>4.212411e+06</td>\n",
       "    </tr>\n",
       "    <tr>\n",
       "      <th>50%</th>\n",
       "      <td>NaN</td>\n",
       "      <td>NaN</td>\n",
       "      <td>NaN</td>\n",
       "      <td>4.312393e+06</td>\n",
       "    </tr>\n",
       "    <tr>\n",
       "      <th>75%</th>\n",
       "      <td>NaN</td>\n",
       "      <td>NaN</td>\n",
       "      <td>NaN</td>\n",
       "      <td>4.420303e+06</td>\n",
       "    </tr>\n",
       "    <tr>\n",
       "      <th>max</th>\n",
       "      <td>NaN</td>\n",
       "      <td>NaN</td>\n",
       "      <td>NaN</td>\n",
       "      <td>4.550778e+06</td>\n",
       "    </tr>\n",
       "  </tbody>\n",
       "</table>\n",
       "</div>"
      ],
      "text/plain": [
       "                  id ag_name ag_cat        school\n",
       "count          11633   11633  11633  1.163300e+04\n",
       "unique          1206     164     10           NaN\n",
       "top     SN-4540340-0    Chor  Sport           NaN\n",
       "freq              50     579   3203           NaN\n",
       "mean             NaN     NaN    NaN  4.317592e+06\n",
       "std              NaN     NaN    NaN  1.324859e+05\n",
       "min              NaN     NaN    NaN  4.050019e+06\n",
       "25%              NaN     NaN    NaN  4.212411e+06\n",
       "50%              NaN     NaN    NaN  4.312393e+06\n",
       "75%              NaN     NaN    NaN  4.420303e+06\n",
       "max              NaN     NaN    NaN  4.550778e+06"
      ]
     },
     "execution_count": 4,
     "metadata": {},
     "output_type": "execute_result"
    }
   ],
   "source": [
    "df_Sachsen.drop_duplicates().describe(include='all')"
   ]
  },
  {
   "cell_type": "markdown",
   "metadata": {},
   "source": [
    "Mit dem Befehl *'describe()'* können erhalten wir eine Zusammenfassung der Daten. Wir sehen:\n",
    "unique: 1206 der 1.500 allgemeinbildenden Schulen in Sachsen kommunizieren ihre Projekte und Aktivitäten an das Landesamt Sachsen.\n",
    "count: Es werden über 11.600 Aktivitäten an Schulen in Sachsen angeboten."
   ]
  },
  {
   "cell_type": "code",
   "execution_count": 5,
   "metadata": {
    "collapsed": false
   },
   "outputs": [
    {
     "name": "stdout",
     "output_type": "stream",
     "text": [
      "Eine Schule in Sachsen bietet ihren Schüler*innen durchschnittlich 11.61 Aktivitäten an.\n"
     ]
    }
   ],
   "source": [
    "#Die Anzahl der Schule in Sachsen\n",
    "An_Schulen = len(df_Sachsen.school.unique())\n",
    "\n",
    "An_Schultypen = len(df_Sachsen.id.unique())\n",
    "\n",
    "# Anzahl der angebotenen Aktivitäten\n",
    "An_Projekte = len(df_Sachsen)\n",
    "\n",
    "# Durchschnittliche Anzahl an Projekten an Schulen in Sachsen\n",
    "Durch_Projekte = An_Projekte / An_Schultypen\n",
    "\n",
    "print('Eine Schule in Sachsen bietet ihren Schüler*innen durchschnittlich %s Aktivitäten an.' %(round(Durch_Projekte,2)))"
   ]
  },
  {
   "cell_type": "markdown",
   "metadata": {
    "collapsed": false
   },
   "source": [
    "Um zu errechnen wie viele Projekte eine Schule in Sachsen durchschnittlich anbietet, teilen wir die Anzahl der Projekte durch die Anzahl der Schulen. Da die CSV-Datei für jedes Angebot einen eigenen Zeileneintrag enthält, werden auch Schulen doppelt genannt. Mit der Funktion *'unique()'* filtern wir doppelte Schuleinträge aus. Dadurch erhalten wir die Anzahl der Schulen in Sachsen, die ihre Aktivitäten kommuniziert haben.\n",
    "**Ergebnis:**\n",
    "* Durchschnittlich bietet eine Schule in Sachsen ihren Schüler*innen knapp 12 Aktivitäten an."
   ]
  },
  {
   "cell_type": "code",
   "execution_count": 6,
   "metadata": {
    "collapsed": false
   },
   "outputs": [
    {
     "name": "stdout",
     "output_type": "stream",
     "text": [
      "In Sachsen werden in durchschnittlich 5.24 Kategorien Aktivitäten angeboten.\n"
     ]
    }
   ],
   "source": [
    "#Wie viel Projekte aus unterschiedlichen Bereichen bieten die Schulen ihren Schüler*innen?\n",
    "Kategorie_unique = df_Sachsen.drop_duplicates(subset=['id','ag_cat'])\n",
    "\n",
    "#Calculate average number of Activity-Categories per School\n",
    "Durch_Kategorie = len(Kategorie_unique) / An_Schultypen\n",
    "print('In Sachsen werden in durchschnittlich %s Kategorien Aktivitäten angeboten.' %(round(Durch_Kategorie,2)))"
   ]
  },
  {
   "cell_type": "code",
   "execution_count": 7,
   "metadata": {
    "collapsed": false
   },
   "outputs": [
    {
     "data": {
      "text/html": [
       "<div>\n",
       "<table border=\"1\" class=\"dataframe\">\n",
       "  <thead>\n",
       "    <tr style=\"text-align: right;\">\n",
       "      <th></th>\n",
       "      <th>id</th>\n",
       "      <th>% Schulen mit Projekt-Kategorie</th>\n",
       "    </tr>\n",
       "    <tr>\n",
       "      <th>ag_cat</th>\n",
       "      <th></th>\n",
       "      <th></th>\n",
       "    </tr>\n",
       "  </thead>\n",
       "  <tbody>\n",
       "    <tr>\n",
       "      <th>Sport</th>\n",
       "      <td>1047</td>\n",
       "      <td>86.82</td>\n",
       "    </tr>\n",
       "    <tr>\n",
       "      <th>Musik / Tanz</th>\n",
       "      <td>919</td>\n",
       "      <td>76.20</td>\n",
       "    </tr>\n",
       "    <tr>\n",
       "      <th>Kunst / Kultur</th>\n",
       "      <td>798</td>\n",
       "      <td>66.17</td>\n",
       "    </tr>\n",
       "    <tr>\n",
       "      <th>Literatur / Medien</th>\n",
       "      <td>736</td>\n",
       "      <td>61.03</td>\n",
       "    </tr>\n",
       "    <tr>\n",
       "      <th>Gesellschaft / Partizipation</th>\n",
       "      <td>643</td>\n",
       "      <td>53.32</td>\n",
       "    </tr>\n",
       "    <tr>\n",
       "      <th>Berufsorientierung</th>\n",
       "      <td>636</td>\n",
       "      <td>52.74</td>\n",
       "    </tr>\n",
       "    <tr>\n",
       "      <th>Naturwissenschaft / Technik</th>\n",
       "      <td>422</td>\n",
       "      <td>34.99</td>\n",
       "    </tr>\n",
       "    <tr>\n",
       "      <th>Sprachen</th>\n",
       "      <td>421</td>\n",
       "      <td>34.91</td>\n",
       "    </tr>\n",
       "    <tr>\n",
       "      <th>Handwerk</th>\n",
       "      <td>370</td>\n",
       "      <td>30.68</td>\n",
       "    </tr>\n",
       "    <tr>\n",
       "      <th>Umwelt</th>\n",
       "      <td>325</td>\n",
       "      <td>26.95</td>\n",
       "    </tr>\n",
       "  </tbody>\n",
       "</table>\n",
       "</div>"
      ],
      "text/plain": [
       "                                id  % Schulen mit Projekt-Kategorie\n",
       "ag_cat                                                             \n",
       "Sport                         1047                            86.82\n",
       "Musik / Tanz                   919                            76.20\n",
       "Kunst / Kultur                 798                            66.17\n",
       "Literatur / Medien             736                            61.03\n",
       "Gesellschaft / Partizipation   643                            53.32\n",
       "Berufsorientierung             636                            52.74\n",
       "Naturwissenschaft / Technik    422                            34.99\n",
       "Sprachen                       421                            34.91\n",
       "Handwerk                       370                            30.68\n",
       "Umwelt                         325                            26.95"
      ]
     },
     "execution_count": 7,
     "metadata": {},
     "output_type": "execute_result"
    }
   ],
   "source": [
    "Kategorien = pd.pivot_table(Kategorie_unique,index=['ag_cat'],values='id',aggfunc='count')\n",
    "Kategorien = pd.DataFrame(Kategorien)\n",
    "Kategorien['% Schulen mit Projekt-Kategorie']= (Kategorien.id / An_Schultypen*100).round(2)\n",
    "Kategorien.sort_values(by='id',ascending=False)"
   ]
  },
  {
   "cell_type": "markdown",
   "metadata": {},
   "source": [
    "Um zu errechen wie viele Schulen für eine jeweilige Kategorie Aktivitäten anbieten, nutzen wir die Pivot-Funktion. *(pivot_table())*. Mit der Funktion gruppieren wir die Aktivitäten nach ihren Kategorien. Teilt man diese Werte (hier unter id) durch die Gesamtanzahl der Schulen in Sachsen, erhalten wir den prozentualen Anteil an Schulen die Aktivitäten in einer Kategorie anbieten.\n"
   ]
  },
  {
   "cell_type": "markdown",
   "metadata": {},
   "source": [
    "### 2. Auswertung der Schulpartnerschaften in Sachsen"
   ]
  },
  {
   "cell_type": "code",
   "execution_count": 8,
   "metadata": {
    "collapsed": false
   },
   "outputs": [],
   "source": [
    "df_Sachsen = pd.read_csv('../partner_sachsen.csv',sep=';')"
   ]
  },
  {
   "cell_type": "code",
   "execution_count": 9,
   "metadata": {
    "collapsed": false
   },
   "outputs": [
    {
     "data": {
      "text/html": [
       "<div>\n",
       "<table border=\"1\" class=\"dataframe\">\n",
       "  <thead>\n",
       "    <tr style=\"text-align: right;\">\n",
       "      <th></th>\n",
       "      <th>Schulname</th>\n",
       "      <th>Dienststellenschlüssel</th>\n",
       "      <th>school_type1</th>\n",
       "      <th>school_type2</th>\n",
       "      <th>school_type3</th>\n",
       "      <th>school_type4</th>\n",
       "      <th>school_type5</th>\n",
       "      <th>school_type6</th>\n",
       "      <th>Partner</th>\n",
       "      <th>Aktivitaet</th>\n",
       "      <th>Type_narrow</th>\n",
       "      <th>Type_broad</th>\n",
       "    </tr>\n",
       "  </thead>\n",
       "  <tbody>\n",
       "    <tr>\n",
       "      <th>0</th>\n",
       "      <td>Robert-Härtwig-Schule Oschatz, Oberschule</td>\n",
       "      <td>SN-4430856</td>\n",
       "      <td>Mittelschule</td>\n",
       "      <td>NaN</td>\n",
       "      <td>NaN</td>\n",
       "      <td>NaN</td>\n",
       "      <td>NaN</td>\n",
       "      <td>NaN</td>\n",
       "      <td>Arbeitsagentur Oschatz, Herr Thau</td>\n",
       "      <td>Keine Angabe</td>\n",
       "      <td>Agentur für Arbeit</td>\n",
       "      <td>Öffentliche Infrastruktur</td>\n",
       "    </tr>\n",
       "    <tr>\n",
       "      <th>1</th>\n",
       "      <td>30. Oberschule Dresden</td>\n",
       "      <td>SN-4330247</td>\n",
       "      <td>Mittelschule</td>\n",
       "      <td>NaN</td>\n",
       "      <td>NaN</td>\n",
       "      <td>NaN</td>\n",
       "      <td>NaN</td>\n",
       "      <td>NaN</td>\n",
       "      <td>Jugendamt Dresden, Innere Neustadt</td>\n",
       "      <td>Keine Angabe</td>\n",
       "      <td>Amt</td>\n",
       "      <td>Öffentliche Infrastruktur</td>\n",
       "    </tr>\n",
       "  </tbody>\n",
       "</table>\n",
       "</div>"
      ],
      "text/plain": [
       "                                   Schulname Dienststellenschlüssel  \\\n",
       "0  Robert-Härtwig-Schule Oschatz, Oberschule             SN-4430856   \n",
       "1                     30. Oberschule Dresden             SN-4330247   \n",
       "\n",
       "   school_type1 school_type2 school_type3 school_type4 school_type5  \\\n",
       "0  Mittelschule          NaN          NaN          NaN          NaN   \n",
       "1  Mittelschule          NaN          NaN          NaN          NaN   \n",
       "\n",
       "  school_type6                             Partner    Aktivitaet  \\\n",
       "0          NaN   Arbeitsagentur Oschatz, Herr Thau  Keine Angabe   \n",
       "1          NaN  Jugendamt Dresden, Innere Neustadt  Keine Angabe   \n",
       "\n",
       "          Type_narrow                 Type_broad  \n",
       "0  Agentur für Arbeit  Öffentliche Infrastruktur  \n",
       "1                 Amt  Öffentliche Infrastruktur  "
      ]
     },
     "execution_count": 9,
     "metadata": {},
     "output_type": "execute_result"
    }
   ],
   "source": [
    "df_Sachsen.head(2)"
   ]
  },
  {
   "cell_type": "markdown",
   "metadata": {},
   "source": [
    "Auch hier ist es zunächst sinnvoll,einen Blick in die Daten zu werfen."
   ]
  },
  {
   "cell_type": "code",
   "execution_count": 10,
   "metadata": {
    "collapsed": true
   },
   "outputs": [],
   "source": [
    "Schulkategorien = {'Grundschule' : [' Grundschule',\n",
    "                                     'Grundschule'],\n",
    "                    'Sekundarschule' : ['Abendmittelschule',\n",
    "                                        'Mittelschule',\n",
    "                                        'Schulversuch Gemeinschaftsschule',\n",
    "                                        ' Mittelschule'],\n",
    "                    'Berufliche Schule' : ['Berufsfachschule',\n",
    "                                           'Berufsschule',\n",
    "                                           'Fachschule',\n",
    "                                           ' Fachoberschule',\n",
    "                                           'Fachoberschule',\n",
    "                                           ],\n",
    "                    'Förderschulen' : ['Berufsbildende Förderschule',\n",
    "                                       'Schule für geistig Behinderte',\n",
    "                                       'Schule zur Lernförderung',\n",
    "                                       'Sprachheilschule',\n",
    "                                       'Schule für Blinde und Sehbehinderte',\n",
    "                                       'Schule für Erziehungshilfe',\n",
    "                                       'Schule für geistig Behinderte',\n",
    "                                       'Schule für Hörgeschädigte',\n",
    "                                       'Schule für Körperbehinderte',\n",
    "                                       'Schule zur Lernförderung',\n",
    "                                       'Sprachheilschule'],\n",
    "                    'Sonstige' :['Klinik- und Krankenhausschule',\n",
    "                                 ' Klinik- und Krankenhausschule',\n",
    "                                 'Kolleg'],\n",
    "                   \n",
    "                   'Gymnasium' : ['Abendgymnasium',\n",
    "                                  'Berufliches Gymnasium',\n",
    "                                  'Gymnasium']\n",
    "                   \n",
    "                   }"
   ]
  },
  {
   "cell_type": "markdown",
   "metadata": {},
   "source": [
    "Um die unterschiedlichen Schultypen zu vereinheitlichen, ordnen wir diese in 6 Kategorien ein: Grundschule, Sekundarschule, Berufliche Schule, Förderschulen, Gymnasium, Sonstige. Dazu erstellen wir das Dictionary: Schulkategorien."
   ]
  },
  {
   "cell_type": "code",
   "execution_count": 11,
   "metadata": {
    "collapsed": true
   },
   "outputs": [],
   "source": [
    "def check_up_Schultyp(schooltyp):\n",
    "    for key, value in Schulkategorien.items():\n",
    "        for a in value:\n",
    "            if a in str(schooltyp):\n",
    "                return(key)"
   ]
  },
  {
   "cell_type": "code",
   "execution_count": 12,
   "metadata": {
    "collapsed": false
   },
   "outputs": [],
   "source": [
    "df_Sachsen = pd.melt(df_Sachsen, id_vars=['Type_broad','Type_narrow','Aktivitaet','Partner','Schulname','Dienststellenschlüssel'], \n",
    "                  var_name=\"Schulkategorien\", value_name=\"Schultyp\")"
   ]
  },
  {
   "cell_type": "markdown",
   "metadata": {},
   "source": [
    "In Sachsen kann eine Schule aus mehreren Schulen bestehen. Schule xy ist beispielsweise ein Gymansium und eine Berufliche Schule zugleich. Mit der Funktion *'melt()'* transformieren wir das Datenset so, dass für jeden Schultyp ein Zeileneintrag entsteht."
   ]
  },
  {
   "cell_type": "code",
   "execution_count": 13,
   "metadata": {
    "collapsed": false
   },
   "outputs": [],
   "source": [
    "# Hier mappen wir die einzelnen Schultypen auf die 6 Schultypkategorien und säubern leere Zeilen aus.\n",
    "df_Sachsen['Schultypen_grob'] = df_Sachsen.Schultyp.apply(check_up_Schultyp)\n",
    "# Einträge mit leeren Zellen werden hier ausgefiltert\n",
    "df_Sachsen = df_Sachsen.dropna(subset=['Schultyp'])\n"
   ]
  },
  {
   "cell_type": "code",
   "execution_count": 14,
   "metadata": {
    "collapsed": false
   },
   "outputs": [
    {
     "data": {
      "text/plain": [
       "7172"
      ]
     },
     "execution_count": 14,
     "metadata": {},
     "output_type": "execute_result"
    }
   ],
   "source": [
    "df_Sachsen.Schulname.count()"
   ]
  },
  {
   "cell_type": "markdown",
   "metadata": {},
   "source": [
    "Indem wir alle Einträge in dem Datenset zählen, sehen wir wie viele Partnerschaften Schulen in Sachsen eingehen. "
   ]
  },
  {
   "cell_type": "code",
   "execution_count": 15,
   "metadata": {
    "collapsed": false
   },
   "outputs": [
    {
     "data": {
      "text/plain": [
       "1106"
      ]
     },
     "execution_count": 15,
     "metadata": {},
     "output_type": "execute_result"
    }
   ],
   "source": [
    "\n",
    "df_Sachsen2 = df_Sachsen.drop_duplicates(subset=['Schultyp', 'Dienststellenschlüssel'])\n",
    "df_Sachsen2.Schultyp.count()"
   ]
  },
  {
   "cell_type": "markdown",
   "metadata": {},
   "source": [
    "Indem wir nur Reihen zählen indenen der Dienststellenschlüssel und der Schultyp einzigartig sind, erhalten wir die Anzahl der Schulen die an das Statistische Landesamt Sachsen kommuniziert haben."
   ]
  },
  {
   "cell_type": "code",
   "execution_count": 16,
   "metadata": {
    "collapsed": false
   },
   "outputs": [
    {
     "data": {
      "text/html": [
       "<div>\n",
       "<table border=\"1\" class=\"dataframe\">\n",
       "  <thead>\n",
       "    <tr style=\"text-align: right;\">\n",
       "      <th></th>\n",
       "      <th>Partner</th>\n",
       "      <th>Verteilung</th>\n",
       "    </tr>\n",
       "    <tr>\n",
       "      <th>Type_broad</th>\n",
       "      <th></th>\n",
       "      <th></th>\n",
       "    </tr>\n",
       "  </thead>\n",
       "  <tbody>\n",
       "    <tr>\n",
       "      <th>Gemeinnütziger Akteur</th>\n",
       "      <td>2328</td>\n",
       "      <td>0.3246</td>\n",
       "    </tr>\n",
       "    <tr>\n",
       "      <th>Partnerschule</th>\n",
       "      <td>439</td>\n",
       "      <td>0.0612</td>\n",
       "    </tr>\n",
       "    <tr>\n",
       "      <th>Religiöse Einrichtung</th>\n",
       "      <td>132</td>\n",
       "      <td>0.0184</td>\n",
       "    </tr>\n",
       "    <tr>\n",
       "      <th>Unbestimmt</th>\n",
       "      <td>357</td>\n",
       "      <td>0.0498</td>\n",
       "    </tr>\n",
       "    <tr>\n",
       "      <th>Verband / Kammer / Innung / Gewerkschaft</th>\n",
       "      <td>343</td>\n",
       "      <td>0.0478</td>\n",
       "    </tr>\n",
       "    <tr>\n",
       "      <th>Wirtschaftsakteur</th>\n",
       "      <td>880</td>\n",
       "      <td>0.1227</td>\n",
       "    </tr>\n",
       "    <tr>\n",
       "      <th>Öffentliche Infrastruktur</th>\n",
       "      <td>2693</td>\n",
       "      <td>0.3755</td>\n",
       "    </tr>\n",
       "  </tbody>\n",
       "</table>\n",
       "</div>"
      ],
      "text/plain": [
       "                                          Partner  Verteilung\n",
       "Type_broad                                                   \n",
       "Gemeinnütziger Akteur                        2328      0.3246\n",
       "Partnerschule                                 439      0.0612\n",
       "Religiöse Einrichtung                         132      0.0184\n",
       "Unbestimmt                                    357      0.0498\n",
       "Verband / Kammer / Innung / Gewerkschaft      343      0.0478\n",
       "Wirtschaftsakteur                             880      0.1227\n",
       "Öffentliche Infrastruktur                    2693      0.3755"
      ]
     },
     "execution_count": 16,
     "metadata": {},
     "output_type": "execute_result"
    }
   ],
   "source": [
    "Typ_Partner = pd.DataFrame(df_Sachsen.Type_broad.value_counts())\n",
    "Typ_Partner = pd.DataFrame(pd.pivot_table(df_Sachsen,index=['Type_broad'],values='Partner', aggfunc='count'))\n",
    "Typ_Partner['Verteilung'] = (Typ_Partner / sum(Typ_Partner.Partner)).round(4)\n",
    "Typ_Partner"
   ]
  },
  {
   "cell_type": "markdown",
   "metadata": {},
   "source": [
    "Um zu sehen wie viele Partnerschaften in eine Akteurskategorie fallen und die Anteile der Kategorien im Verhältnis zueinander sind nutzen wir erneut die Pivotfunktion. Dadurch Gruppieren wir die Partnerschaften nach den jeweiligen Kategorien. Teilt man die Werte durch die Gesamtzahl aller Partnerschaften erhaält man die Verteilung. "
   ]
  },
  {
   "cell_type": "markdown",
   "metadata": {},
   "source": [
    "##### Wie viele Akteure für die jeweilige Kategorie kommen auf  eine Schule in Sachsen?"
   ]
  },
  {
   "cell_type": "code",
   "execution_count": 17,
   "metadata": {
    "collapsed": false
   },
   "outputs": [],
   "source": [
    "Schutyp_unique = pd.pivot_table(df_Sachsen,index=['Schultypen_grob'],values='Partner',columns='Type_broad', aggfunc='count')\n",
    "Schutyp_unique = Schutyp_unique.fillna(0)"
   ]
  },
  {
   "cell_type": "code",
   "execution_count": 18,
   "metadata": {
    "collapsed": false
   },
   "outputs": [],
   "source": [
    "Schutyp_unique = pd.DataFrame(Schutyp_unique)"
   ]
  },
  {
   "cell_type": "markdown",
   "metadata": {},
   "source": [
    "Wir nutzen wieder die Pivotfunktion. Wir zählen  allerdings nur die Akteurskategorien die auf einen Schultyp kommen."
   ]
  },
  {
   "cell_type": "code",
   "execution_count": 19,
   "metadata": {
    "collapsed": false
   },
   "outputs": [
    {
     "data": {
      "text/html": [
       "<div>\n",
       "<table border=\"1\" class=\"dataframe\">\n",
       "  <thead>\n",
       "    <tr style=\"text-align: right;\">\n",
       "      <th></th>\n",
       "      <th>Schultypen_grob</th>\n",
       "    </tr>\n",
       "  </thead>\n",
       "  <tbody>\n",
       "    <tr>\n",
       "      <th>Grundschule</th>\n",
       "      <td>448</td>\n",
       "    </tr>\n",
       "    <tr>\n",
       "      <th>Sekundarschule</th>\n",
       "      <td>259</td>\n",
       "    </tr>\n",
       "    <tr>\n",
       "      <th>Gymnasium</th>\n",
       "      <td>148</td>\n",
       "    </tr>\n",
       "    <tr>\n",
       "      <th>Berufliche Schule</th>\n",
       "      <td>129</td>\n",
       "    </tr>\n",
       "    <tr>\n",
       "      <th>Förderschulen</th>\n",
       "      <td>120</td>\n",
       "    </tr>\n",
       "    <tr>\n",
       "      <th>Sonstige</th>\n",
       "      <td>2</td>\n",
       "    </tr>\n",
       "  </tbody>\n",
       "</table>\n",
       "</div>"
      ],
      "text/plain": [
       "                   Schultypen_grob\n",
       "Grundschule                    448\n",
       "Sekundarschule                 259\n",
       "Gymnasium                      148\n",
       "Berufliche Schule              129\n",
       "Förderschulen                  120\n",
       "Sonstige                         2"
      ]
     },
     "execution_count": 19,
     "metadata": {},
     "output_type": "execute_result"
    }
   ],
   "source": [
    "dftyp = df_Sachsen.drop_duplicates(subset=['Dienststellenschlüssel','Schultyp'])\n",
    "dftyp = pd.DataFrame(dftyp.Schultypen_grob.value_counts())\n",
    "dftyp"
   ]
  },
  {
   "cell_type": "markdown",
   "metadata": {},
   "source": [
    "Hier errechnen wir die Anzahl der Schulen in Sachsen für jeden Schultyp."
   ]
  },
  {
   "cell_type": "code",
   "execution_count": 20,
   "metadata": {
    "collapsed": false
   },
   "outputs": [],
   "source": [
    "Schutyp_unique['Schulanzahl'] = dftyp"
   ]
  },
  {
   "cell_type": "markdown",
   "metadata": {},
   "source": [
    "Anschließend fügen wir die Anzahl der Schulen pro Schultyp an das zuvorerstellte Dataframe mit der Anzahl der Partnerschaften pro Schultyp."
   ]
  },
  {
   "cell_type": "code",
   "execution_count": 21,
   "metadata": {
    "collapsed": false
   },
   "outputs": [
    {
     "data": {
      "text/html": [
       "<div>\n",
       "<table border=\"1\" class=\"dataframe\">\n",
       "  <thead>\n",
       "    <tr style=\"text-align: right;\">\n",
       "      <th>Type_broad</th>\n",
       "      <th>Gemeinnütziger Akteur</th>\n",
       "      <th>Partnerschule</th>\n",
       "      <th>Religiöse Einrichtung</th>\n",
       "      <th>Unbestimmt</th>\n",
       "      <th>Verband / Kammer / Innung / Gewerkschaft</th>\n",
       "      <th>Wirtschaftsakteur</th>\n",
       "      <th>Öffentliche Infrastruktur</th>\n",
       "    </tr>\n",
       "    <tr>\n",
       "      <th>Schultypen_grob</th>\n",
       "      <th></th>\n",
       "      <th></th>\n",
       "      <th></th>\n",
       "      <th></th>\n",
       "      <th></th>\n",
       "      <th></th>\n",
       "      <th></th>\n",
       "    </tr>\n",
       "  </thead>\n",
       "  <tbody>\n",
       "    <tr>\n",
       "      <th>Berufliche Schule</th>\n",
       "      <td>1.224806</td>\n",
       "      <td>0.961240</td>\n",
       "      <td>0.046512</td>\n",
       "      <td>0.294574</td>\n",
       "      <td>1.480620</td>\n",
       "      <td>0.744186</td>\n",
       "      <td>1.976744</td>\n",
       "    </tr>\n",
       "    <tr>\n",
       "      <th>Förderschulen</th>\n",
       "      <td>2.466667</td>\n",
       "      <td>0.416667</td>\n",
       "      <td>0.341667</td>\n",
       "      <td>0.616667</td>\n",
       "      <td>0.216667</td>\n",
       "      <td>1.058333</td>\n",
       "      <td>2.150000</td>\n",
       "    </tr>\n",
       "    <tr>\n",
       "      <th>Grundschule</th>\n",
       "      <td>1.814732</td>\n",
       "      <td>0.357143</td>\n",
       "      <td>0.062500</td>\n",
       "      <td>0.154018</td>\n",
       "      <td>0.042411</td>\n",
       "      <td>0.214286</td>\n",
       "      <td>2.160714</td>\n",
       "    </tr>\n",
       "    <tr>\n",
       "      <th>Gymnasium</th>\n",
       "      <td>1.770270</td>\n",
       "      <td>0.317568</td>\n",
       "      <td>0.108108</td>\n",
       "      <td>0.310811</td>\n",
       "      <td>0.405405</td>\n",
       "      <td>1.054054</td>\n",
       "      <td>3.074324</td>\n",
       "    </tr>\n",
       "    <tr>\n",
       "      <th>Sekundarschule</th>\n",
       "      <td>3.061776</td>\n",
       "      <td>0.212355</td>\n",
       "      <td>0.158301</td>\n",
       "      <td>0.501931</td>\n",
       "      <td>0.177606</td>\n",
       "      <td>1.559846</td>\n",
       "      <td>2.907336</td>\n",
       "    </tr>\n",
       "    <tr>\n",
       "      <th>Sonstige</th>\n",
       "      <td>3.000000</td>\n",
       "      <td>1.500000</td>\n",
       "      <td>0.000000</td>\n",
       "      <td>0.000000</td>\n",
       "      <td>0.500000</td>\n",
       "      <td>0.500000</td>\n",
       "      <td>2.000000</td>\n",
       "    </tr>\n",
       "  </tbody>\n",
       "</table>\n",
       "</div>"
      ],
      "text/plain": [
       "Type_broad         Gemeinnütziger Akteur  Partnerschule  \\\n",
       "Schultypen_grob                                           \n",
       "Berufliche Schule               1.224806       0.961240   \n",
       "Förderschulen                   2.466667       0.416667   \n",
       "Grundschule                     1.814732       0.357143   \n",
       "Gymnasium                       1.770270       0.317568   \n",
       "Sekundarschule                  3.061776       0.212355   \n",
       "Sonstige                        3.000000       1.500000   \n",
       "\n",
       "Type_broad         Religiöse Einrichtung  Unbestimmt  \\\n",
       "Schultypen_grob                                        \n",
       "Berufliche Schule               0.046512    0.294574   \n",
       "Förderschulen                   0.341667    0.616667   \n",
       "Grundschule                     0.062500    0.154018   \n",
       "Gymnasium                       0.108108    0.310811   \n",
       "Sekundarschule                  0.158301    0.501931   \n",
       "Sonstige                        0.000000    0.000000   \n",
       "\n",
       "Type_broad         Verband / Kammer / Innung / Gewerkschaft  \\\n",
       "Schultypen_grob                                               \n",
       "Berufliche Schule                                  1.480620   \n",
       "Förderschulen                                      0.216667   \n",
       "Grundschule                                        0.042411   \n",
       "Gymnasium                                          0.405405   \n",
       "Sekundarschule                                     0.177606   \n",
       "Sonstige                                           0.500000   \n",
       "\n",
       "Type_broad         Wirtschaftsakteur  Öffentliche Infrastruktur  \n",
       "Schultypen_grob                                                  \n",
       "Berufliche Schule           0.744186                   1.976744  \n",
       "Förderschulen               1.058333                   2.150000  \n",
       "Grundschule                 0.214286                   2.160714  \n",
       "Gymnasium                   1.054054                   3.074324  \n",
       "Sekundarschule              1.559846                   2.907336  \n",
       "Sonstige                    0.500000                   2.000000  "
      ]
     },
     "execution_count": 21,
     "metadata": {},
     "output_type": "execute_result"
    }
   ],
   "source": [
    "Schutyp_unique[['Gemeinnütziger Akteur','Partnerschule','Religiöse Einrichtung', 'Unbestimmt', 'Verband / Kammer / Innung / Gewerkschaft', 'Wirtschaftsakteur', 'Öffentliche Infrastruktur']].div(Schutyp_unique.Schulanzahl, axis=0)"
   ]
  },
  {
   "cell_type": "markdown",
   "metadata": {},
   "source": [
    "Anschließend teilen wir die Anzahl der Partnerschaften pro Akteurskategorie durch die jeweilige Anzahl der Schulen pro Schultyp. Die obenstehende Tabelle zeigt also für jeden Schultyp wie viele Partnerschaften sie durchschnittlich pro Akteurskategorie eingeht."
   ]
  }
 ],
 "metadata": {
  "kernelspec": {
   "display_name": "Python 3",
   "language": "python",
   "name": "python3"
  },
  "language_info": {
   "codemirror_mode": {
    "name": "ipython",
    "version": 3
   },
   "file_extension": ".py",
   "mimetype": "text/x-python",
   "name": "python",
   "nbconvert_exporter": "python",
   "pygments_lexer": "ipython3",
   "version": "3.5.2"
  }
 },
 "nbformat": 4,
 "nbformat_minor": 1
}
