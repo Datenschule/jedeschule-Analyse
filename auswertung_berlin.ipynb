{
 "cells": [
  {
   "cell_type": "markdown",
   "metadata": {},
   "source": [
    "<img src=\"img/datenschule_logo_web.png\" width=\"25%\"  align=\"left\">"
   ]
  },
  {
   "cell_type": "markdown",
   "metadata": {},
   "source": [
    "<img src=\"img/Coat_of_arms_of_Berlin.svg\" width=\"11%\"  align=\"right\">\n",
    "# Aktivitäten und Partnerschaften an Berliner Schulen\n",
    "In diesem Notebook dokumnetieren wir unser Vorgehen bei der Auswertung der Partnerschaften und Aktivitäten <br> der Berliner Schulen. Da wir die Daten auf der Website  laufend aktualisiert, können die Ergebnisse hier <br> von denen auf der Website abweichen. Der Berechnungsweg ist allerdings der Gleiche.\n",
    " <br> Mehr Informationen über das Schulsystem in Deutschland gibt es auf <a href='https://jedeschule.de'>jedeschule.de<a>"
   ]
  },
  {
   "cell_type": "code",
   "execution_count": 2,
   "metadata": {
    "collapsed": true
   },
   "outputs": [],
   "source": [
    "#Für die Berechnung nutzen wir hier die Pandas-Library\n",
    "import pandas as pd"
   ]
  },
  {
   "cell_type": "markdown",
   "metadata": {},
   "source": [
    "### 1. Auswertung der Schulaktivitäten in Berlin"
   ]
  },
  {
   "cell_type": "code",
   "execution_count": 10,
   "metadata": {
    "collapsed": false
   },
   "outputs": [
    {
     "ename": "OSError",
     "evalue": "File b'/csvs/berlin/ag_berlin.csv' does not exist",
     "output_type": "error",
     "traceback": [
      "\u001b[0;31m---------------------------------------------------------------------------\u001b[0m",
      "\u001b[0;31mOSError\u001b[0m                                   Traceback (most recent call last)",
      "\u001b[0;32m<ipython-input-10-cda529ac9bf2>\u001b[0m in \u001b[0;36m<module>\u001b[0;34m()\u001b[0m\n\u001b[0;32m----> 1\u001b[0;31m \u001b[0mdf_Berlin\u001b[0m \u001b[0;34m=\u001b[0m \u001b[0mpd\u001b[0m\u001b[0;34m.\u001b[0m\u001b[0mread_csv\u001b[0m\u001b[0;34m(\u001b[0m\u001b[0;34m'/csvs/berlin/ag_berlin.csv'\u001b[0m\u001b[0;34m,\u001b[0m \u001b[0msep\u001b[0m\u001b[0;34m=\u001b[0m\u001b[0;34m','\u001b[0m\u001b[0;34m)\u001b[0m\u001b[0;34m\u001b[0m\u001b[0m\n\u001b[0m",
      "\u001b[0;32m/usr/local/lib/python3.5/site-packages/pandas/io/parsers.py\u001b[0m in \u001b[0;36mparser_f\u001b[0;34m(filepath_or_buffer, sep, delimiter, header, names, index_col, usecols, squeeze, prefix, mangle_dupe_cols, dtype, engine, converters, true_values, false_values, skipinitialspace, skiprows, skipfooter, nrows, na_values, keep_default_na, na_filter, verbose, skip_blank_lines, parse_dates, infer_datetime_format, keep_date_col, date_parser, dayfirst, iterator, chunksize, compression, thousands, decimal, lineterminator, quotechar, quoting, escapechar, comment, encoding, dialect, tupleize_cols, error_bad_lines, warn_bad_lines, skip_footer, doublequote, delim_whitespace, as_recarray, compact_ints, use_unsigned, low_memory, buffer_lines, memory_map, float_precision)\u001b[0m\n\u001b[1;32m    560\u001b[0m                     skip_blank_lines=skip_blank_lines)\n\u001b[1;32m    561\u001b[0m \u001b[0;34m\u001b[0m\u001b[0m\n\u001b[0;32m--> 562\u001b[0;31m         \u001b[0;32mreturn\u001b[0m \u001b[0m_read\u001b[0m\u001b[0;34m(\u001b[0m\u001b[0mfilepath_or_buffer\u001b[0m\u001b[0;34m,\u001b[0m \u001b[0mkwds\u001b[0m\u001b[0;34m)\u001b[0m\u001b[0;34m\u001b[0m\u001b[0m\n\u001b[0m\u001b[1;32m    563\u001b[0m \u001b[0;34m\u001b[0m\u001b[0m\n\u001b[1;32m    564\u001b[0m     \u001b[0mparser_f\u001b[0m\u001b[0;34m.\u001b[0m\u001b[0m__name__\u001b[0m \u001b[0;34m=\u001b[0m \u001b[0mname\u001b[0m\u001b[0;34m\u001b[0m\u001b[0m\n",
      "\u001b[0;32m/usr/local/lib/python3.5/site-packages/pandas/io/parsers.py\u001b[0m in \u001b[0;36m_read\u001b[0;34m(filepath_or_buffer, kwds)\u001b[0m\n\u001b[1;32m    313\u001b[0m \u001b[0;34m\u001b[0m\u001b[0m\n\u001b[1;32m    314\u001b[0m     \u001b[0;31m# Create the parser.\u001b[0m\u001b[0;34m\u001b[0m\u001b[0;34m\u001b[0m\u001b[0m\n\u001b[0;32m--> 315\u001b[0;31m     \u001b[0mparser\u001b[0m \u001b[0;34m=\u001b[0m \u001b[0mTextFileReader\u001b[0m\u001b[0;34m(\u001b[0m\u001b[0mfilepath_or_buffer\u001b[0m\u001b[0;34m,\u001b[0m \u001b[0;34m**\u001b[0m\u001b[0mkwds\u001b[0m\u001b[0;34m)\u001b[0m\u001b[0;34m\u001b[0m\u001b[0m\n\u001b[0m\u001b[1;32m    316\u001b[0m \u001b[0;34m\u001b[0m\u001b[0m\n\u001b[1;32m    317\u001b[0m     \u001b[0;32mif\u001b[0m \u001b[0;34m(\u001b[0m\u001b[0mnrows\u001b[0m \u001b[0;32mis\u001b[0m \u001b[0;32mnot\u001b[0m \u001b[0;32mNone\u001b[0m\u001b[0;34m)\u001b[0m \u001b[0;32mand\u001b[0m \u001b[0;34m(\u001b[0m\u001b[0mchunksize\u001b[0m \u001b[0;32mis\u001b[0m \u001b[0;32mnot\u001b[0m \u001b[0;32mNone\u001b[0m\u001b[0;34m)\u001b[0m\u001b[0;34m:\u001b[0m\u001b[0;34m\u001b[0m\u001b[0m\n",
      "\u001b[0;32m/usr/local/lib/python3.5/site-packages/pandas/io/parsers.py\u001b[0m in \u001b[0;36m__init__\u001b[0;34m(self, f, engine, **kwds)\u001b[0m\n\u001b[1;32m    643\u001b[0m             \u001b[0mself\u001b[0m\u001b[0;34m.\u001b[0m\u001b[0moptions\u001b[0m\u001b[0;34m[\u001b[0m\u001b[0;34m'has_index_names'\u001b[0m\u001b[0;34m]\u001b[0m \u001b[0;34m=\u001b[0m \u001b[0mkwds\u001b[0m\u001b[0;34m[\u001b[0m\u001b[0;34m'has_index_names'\u001b[0m\u001b[0;34m]\u001b[0m\u001b[0;34m\u001b[0m\u001b[0m\n\u001b[1;32m    644\u001b[0m \u001b[0;34m\u001b[0m\u001b[0m\n\u001b[0;32m--> 645\u001b[0;31m         \u001b[0mself\u001b[0m\u001b[0;34m.\u001b[0m\u001b[0m_make_engine\u001b[0m\u001b[0;34m(\u001b[0m\u001b[0mself\u001b[0m\u001b[0;34m.\u001b[0m\u001b[0mengine\u001b[0m\u001b[0;34m)\u001b[0m\u001b[0;34m\u001b[0m\u001b[0m\n\u001b[0m\u001b[1;32m    646\u001b[0m \u001b[0;34m\u001b[0m\u001b[0m\n\u001b[1;32m    647\u001b[0m     \u001b[0;32mdef\u001b[0m \u001b[0mclose\u001b[0m\u001b[0;34m(\u001b[0m\u001b[0mself\u001b[0m\u001b[0;34m)\u001b[0m\u001b[0;34m:\u001b[0m\u001b[0;34m\u001b[0m\u001b[0m\n",
      "\u001b[0;32m/usr/local/lib/python3.5/site-packages/pandas/io/parsers.py\u001b[0m in \u001b[0;36m_make_engine\u001b[0;34m(self, engine)\u001b[0m\n\u001b[1;32m    797\u001b[0m     \u001b[0;32mdef\u001b[0m \u001b[0m_make_engine\u001b[0m\u001b[0;34m(\u001b[0m\u001b[0mself\u001b[0m\u001b[0;34m,\u001b[0m \u001b[0mengine\u001b[0m\u001b[0;34m=\u001b[0m\u001b[0;34m'c'\u001b[0m\u001b[0;34m)\u001b[0m\u001b[0;34m:\u001b[0m\u001b[0;34m\u001b[0m\u001b[0m\n\u001b[1;32m    798\u001b[0m         \u001b[0;32mif\u001b[0m \u001b[0mengine\u001b[0m \u001b[0;34m==\u001b[0m \u001b[0;34m'c'\u001b[0m\u001b[0;34m:\u001b[0m\u001b[0;34m\u001b[0m\u001b[0m\n\u001b[0;32m--> 799\u001b[0;31m             \u001b[0mself\u001b[0m\u001b[0;34m.\u001b[0m\u001b[0m_engine\u001b[0m \u001b[0;34m=\u001b[0m \u001b[0mCParserWrapper\u001b[0m\u001b[0;34m(\u001b[0m\u001b[0mself\u001b[0m\u001b[0;34m.\u001b[0m\u001b[0mf\u001b[0m\u001b[0;34m,\u001b[0m \u001b[0;34m**\u001b[0m\u001b[0mself\u001b[0m\u001b[0;34m.\u001b[0m\u001b[0moptions\u001b[0m\u001b[0;34m)\u001b[0m\u001b[0;34m\u001b[0m\u001b[0m\n\u001b[0m\u001b[1;32m    800\u001b[0m         \u001b[0;32melse\u001b[0m\u001b[0;34m:\u001b[0m\u001b[0;34m\u001b[0m\u001b[0m\n\u001b[1;32m    801\u001b[0m             \u001b[0;32mif\u001b[0m \u001b[0mengine\u001b[0m \u001b[0;34m==\u001b[0m \u001b[0;34m'python'\u001b[0m\u001b[0;34m:\u001b[0m\u001b[0;34m\u001b[0m\u001b[0m\n",
      "\u001b[0;32m/usr/local/lib/python3.5/site-packages/pandas/io/parsers.py\u001b[0m in \u001b[0;36m__init__\u001b[0;34m(self, src, **kwds)\u001b[0m\n\u001b[1;32m   1211\u001b[0m         \u001b[0mkwds\u001b[0m\u001b[0;34m[\u001b[0m\u001b[0;34m'allow_leading_cols'\u001b[0m\u001b[0;34m]\u001b[0m \u001b[0;34m=\u001b[0m \u001b[0mself\u001b[0m\u001b[0;34m.\u001b[0m\u001b[0mindex_col\u001b[0m \u001b[0;32mis\u001b[0m \u001b[0;32mnot\u001b[0m \u001b[0;32mFalse\u001b[0m\u001b[0;34m\u001b[0m\u001b[0m\n\u001b[1;32m   1212\u001b[0m \u001b[0;34m\u001b[0m\u001b[0m\n\u001b[0;32m-> 1213\u001b[0;31m         \u001b[0mself\u001b[0m\u001b[0;34m.\u001b[0m\u001b[0m_reader\u001b[0m \u001b[0;34m=\u001b[0m \u001b[0m_parser\u001b[0m\u001b[0;34m.\u001b[0m\u001b[0mTextReader\u001b[0m\u001b[0;34m(\u001b[0m\u001b[0msrc\u001b[0m\u001b[0;34m,\u001b[0m \u001b[0;34m**\u001b[0m\u001b[0mkwds\u001b[0m\u001b[0;34m)\u001b[0m\u001b[0;34m\u001b[0m\u001b[0m\n\u001b[0m\u001b[1;32m   1214\u001b[0m \u001b[0;34m\u001b[0m\u001b[0m\n\u001b[1;32m   1215\u001b[0m         \u001b[0;31m# XXX\u001b[0m\u001b[0;34m\u001b[0m\u001b[0;34m\u001b[0m\u001b[0m\n",
      "\u001b[0;32mpandas/parser.pyx\u001b[0m in \u001b[0;36mpandas.parser.TextReader.__cinit__ (pandas/parser.c:3427)\u001b[0;34m()\u001b[0m\n",
      "\u001b[0;32mpandas/parser.pyx\u001b[0m in \u001b[0;36mpandas.parser.TextReader._setup_parser_source (pandas/parser.c:6861)\u001b[0;34m()\u001b[0m\n",
      "\u001b[0;31mOSError\u001b[0m: File b'/csvs/berlin/ag_berlin.csv' does not exist"
     ]
    }
   ],
   "source": [
    "df_Berlin = pd.read_csv('/csvs/berlin/ag_berlin.csv', sep=',')"
   ]
  },
  {
   "cell_type": "markdown",
   "metadata": {},
   "source": [
    "Zunächst werden die CSV-Datei zu den Berliner AGs importiert. Die Daten liegen in unserem Github Ordner."
   ]
  },
  {
   "cell_type": "code",
   "execution_count": 9,
   "metadata": {
    "collapsed": false
   },
   "outputs": [
    {
     "data": {
      "text/html": [
       "<div>\n",
       "<table border=\"1\" class=\"dataframe\">\n",
       "  <thead>\n",
       "    <tr style=\"text-align: right;\">\n",
       "      <th></th>\n",
       "      <th>id</th>\n",
       "      <th>ag_name</th>\n",
       "      <th>ag_cat</th>\n",
       "    </tr>\n",
       "  </thead>\n",
       "  <tbody>\n",
       "    <tr>\n",
       "      <th>0</th>\n",
       "      <td>BE-15586</td>\n",
       "      <td>Astronomie</td>\n",
       "      <td>Naturwissenschaft / Technik</td>\n",
       "    </tr>\n",
       "    <tr>\n",
       "      <th>1</th>\n",
       "      <td>BE-15586</td>\n",
       "      <td>Astrophysik</td>\n",
       "      <td>Naturwissenschaft / Technik</td>\n",
       "    </tr>\n",
       "    <tr>\n",
       "      <th>2</th>\n",
       "      <td>BE-15586</td>\n",
       "      <td>Literatur</td>\n",
       "      <td>Literatur / Medien</td>\n",
       "    </tr>\n",
       "    <tr>\n",
       "      <th>3</th>\n",
       "      <td>BE-15586</td>\n",
       "      <td>Bildende Kunst</td>\n",
       "      <td>Kunst / Kultur</td>\n",
       "    </tr>\n",
       "    <tr>\n",
       "      <th>4</th>\n",
       "      <td>BE-15590</td>\n",
       "      <td>Rudern</td>\n",
       "      <td>Sport</td>\n",
       "    </tr>\n",
       "  </tbody>\n",
       "</table>\n",
       "</div>"
      ],
      "text/plain": [
       "         id         ag_name                       ag_cat\n",
       "0  BE-15586      Astronomie  Naturwissenschaft / Technik\n",
       "1  BE-15586     Astrophysik  Naturwissenschaft / Technik\n",
       "2  BE-15586       Literatur           Literatur / Medien\n",
       "3  BE-15586  Bildende Kunst               Kunst / Kultur\n",
       "4  BE-15590          Rudern                        Sport"
      ]
     },
     "execution_count": 9,
     "metadata": {},
     "output_type": "execute_result"
    }
   ],
   "source": [
    "df_Berlin.head(5)"
   ]
  },
  {
   "cell_type": "markdown",
   "metadata": {},
   "source": [
    "Zu Beginn einer Analyse ist es sinnvoll, einen Überblick über die Daten zu gewinnen."
   ]
  },
  {
   "cell_type": "code",
   "execution_count": 10,
   "metadata": {
    "collapsed": false
   },
   "outputs": [
    {
     "data": {
      "text/html": [
       "<div>\n",
       "<table border=\"1\" class=\"dataframe\">\n",
       "  <thead>\n",
       "    <tr style=\"text-align: right;\">\n",
       "      <th></th>\n",
       "      <th>id</th>\n",
       "      <th>ag_name</th>\n",
       "      <th>ag_cat</th>\n",
       "    </tr>\n",
       "  </thead>\n",
       "  <tbody>\n",
       "    <tr>\n",
       "      <th>count</th>\n",
       "      <td>3341</td>\n",
       "      <td>3341</td>\n",
       "      <td>3341</td>\n",
       "    </tr>\n",
       "    <tr>\n",
       "      <th>unique</th>\n",
       "      <td>413</td>\n",
       "      <td>555</td>\n",
       "      <td>10</td>\n",
       "    </tr>\n",
       "    <tr>\n",
       "      <th>top</th>\n",
       "      <td>BE-16471</td>\n",
       "      <td>Fußball</td>\n",
       "      <td>Sport</td>\n",
       "    </tr>\n",
       "    <tr>\n",
       "      <th>freq</th>\n",
       "      <td>27</td>\n",
       "      <td>215</td>\n",
       "      <td>1124</td>\n",
       "    </tr>\n",
       "  </tbody>\n",
       "</table>\n",
       "</div>"
      ],
      "text/plain": [
       "              id  ag_name ag_cat\n",
       "count       3341     3341   3341\n",
       "unique       413      555     10\n",
       "top     BE-16471  Fußball  Sport\n",
       "freq          27      215   1124"
      ]
     },
     "execution_count": 10,
     "metadata": {},
     "output_type": "execute_result"
    }
   ],
   "source": [
    "df_Berlin.describe(include='all')"
   ]
  },
  {
   "cell_type": "markdown",
   "metadata": {},
   "source": [
    "Mit dem Befehl *'describe'* können erhalten wir eine Zusammenfassung der Daten. Wir sehen: \n",
    " * *unique*: 413 der 800 allgemeinbildenden Schulen in Berlin kommunizieren ihre Projekte und Aktivitäten Projekte und Aktivitäten an die Senatsverwaltung.\n",
    " * *count*: Es werden über 3300 Aktivitäten an Berliner Schulen angeboten."
   ]
  },
  {
   "cell_type": "code",
   "execution_count": 11,
   "metadata": {
    "collapsed": false
   },
   "outputs": [
    {
     "data": {
      "text/plain": [
       "8.08958837772397"
      ]
     },
     "execution_count": 11,
     "metadata": {},
     "output_type": "execute_result"
    }
   ],
   "source": [
    "# Anzahl der Schulen in Berlin\n",
    "An_Schulen = len(df_Berlin.id.unique())\n",
    "\n",
    "# Anzahl der Angebotenen AGs\n",
    "An_Projekte = len(df_Berlin)\n",
    "\n",
    "# Durchschnittliche Anzahl an Projekten an Beriner Schulen\n",
    "Durch_Projekte = An_Projekte / An_Schulen\n",
    "Durch_Projekte"
   ]
  },
  {
   "cell_type": "markdown",
   "metadata": {},
   "source": [
    "Um zu errechnen wie viele Projekte eine Schule in Berlin durchschnittlich anbietet, teilen wir die Anzahl der Projekte durch die Anzahl der Schulen. Da die CSV-Datei für jedes Angebot einen eigenen Zeileneintrag enthält, werden auch Schulen doppelt genannt. Mit der Funktion *'unique()'* filtern wir doppelte Schuleinträge aus. Dadurch erhalten wir die Anzahl der Schulen in Berlin, die ihre Aktivitäten kommuniziert haben. <br>\n",
    "**Ergebnis:**\n",
    "* Durchschnittlich bietet eine Schule in Berlin ihren Schüler*innen rund 8 Aktivitäten an."
   ]
  },
  {
   "cell_type": "code",
   "execution_count": 15,
   "metadata": {
    "collapsed": false
   },
   "outputs": [
    {
     "name": "stdout",
     "output_type": "stream",
     "text": [
      "In Berlin werden in durchschnittlich 4.1 Kategorien Aktivitäten angeboten.\n"
     ]
    }
   ],
   "source": [
    "#Wie viel Projekte aus unterschiedlichen Bereichen bieten die Schulen ihren Schüler*innen?\n",
    "Kategorie_unique = df_Berlin.drop_duplicates(subset=['id','ag_cat'])\n",
    "\n",
    "#Calculate average number of Activity-Categories per School\n",
    "Durch_Kategorie = len(Kategorie_unique) / An_Schulen\n",
    "print('In Berlin werden in durchschnittlich %s Kategorien Aktivitäten angeboten.' %(round(Durch_Kategorie,2)))"
   ]
  },
  {
   "cell_type": "code",
   "execution_count": 16,
   "metadata": {
    "collapsed": false
   },
   "outputs": [
    {
     "data": {
      "text/plain": [
       "1692"
      ]
     },
     "execution_count": 16,
     "metadata": {},
     "output_type": "execute_result"
    }
   ],
   "source": [
    "len(Kategorie_unique)"
   ]
  },
  {
   "cell_type": "code",
   "execution_count": 17,
   "metadata": {
    "collapsed": false
   },
   "outputs": [
    {
     "data": {
      "text/html": [
       "<div>\n",
       "<table border=\"1\" class=\"dataframe\">\n",
       "  <thead>\n",
       "    <tr style=\"text-align: right;\">\n",
       "      <th></th>\n",
       "      <th>id</th>\n",
       "      <th>% Schulen mit Projekt-Kategorie</th>\n",
       "    </tr>\n",
       "    <tr>\n",
       "      <th>ag_cat</th>\n",
       "      <th></th>\n",
       "      <th></th>\n",
       "    </tr>\n",
       "  </thead>\n",
       "  <tbody>\n",
       "    <tr>\n",
       "      <th>Sport</th>\n",
       "      <td>355</td>\n",
       "      <td>85.96</td>\n",
       "    </tr>\n",
       "    <tr>\n",
       "      <th>Musik / Tanz</th>\n",
       "      <td>312</td>\n",
       "      <td>75.54</td>\n",
       "    </tr>\n",
       "    <tr>\n",
       "      <th>Kunst / Kultur</th>\n",
       "      <td>216</td>\n",
       "      <td>52.30</td>\n",
       "    </tr>\n",
       "    <tr>\n",
       "      <th>Naturwissenschaft / Technik</th>\n",
       "      <td>184</td>\n",
       "      <td>44.55</td>\n",
       "    </tr>\n",
       "    <tr>\n",
       "      <th>Handwerk</th>\n",
       "      <td>161</td>\n",
       "      <td>38.98</td>\n",
       "    </tr>\n",
       "    <tr>\n",
       "      <th>Literatur / Medien</th>\n",
       "      <td>158</td>\n",
       "      <td>38.26</td>\n",
       "    </tr>\n",
       "    <tr>\n",
       "      <th>Gesellschaft / Partizipation</th>\n",
       "      <td>105</td>\n",
       "      <td>25.42</td>\n",
       "    </tr>\n",
       "    <tr>\n",
       "      <th>Sprachen</th>\n",
       "      <td>105</td>\n",
       "      <td>25.42</td>\n",
       "    </tr>\n",
       "    <tr>\n",
       "      <th>Umwelt</th>\n",
       "      <td>77</td>\n",
       "      <td>18.64</td>\n",
       "    </tr>\n",
       "    <tr>\n",
       "      <th>Berufsorientierung</th>\n",
       "      <td>19</td>\n",
       "      <td>4.60</td>\n",
       "    </tr>\n",
       "  </tbody>\n",
       "</table>\n",
       "</div>"
      ],
      "text/plain": [
       "                               id  % Schulen mit Projekt-Kategorie\n",
       "ag_cat                                                            \n",
       "Sport                         355                            85.96\n",
       "Musik / Tanz                  312                            75.54\n",
       "Kunst / Kultur                216                            52.30\n",
       "Naturwissenschaft / Technik   184                            44.55\n",
       "Handwerk                      161                            38.98\n",
       "Literatur / Medien            158                            38.26\n",
       "Gesellschaft / Partizipation  105                            25.42\n",
       "Sprachen                      105                            25.42\n",
       "Umwelt                         77                            18.64\n",
       "Berufsorientierung             19                             4.60"
      ]
     },
     "execution_count": 17,
     "metadata": {},
     "output_type": "execute_result"
    }
   ],
   "source": [
    "Kategorien = pd.pivot_table(Kategorie_unique,index=['ag_cat'],values='id',aggfunc='count')\n",
    "Kategorien = pd.DataFrame(Kategorien)\n",
    "Kategorien['% Schulen mit Projekt-Kategorie'] = (Kategorien.id / An_Schulen*100).round(2)\n",
    "Kategorien.sort_values(by='id',ascending=False)"
   ]
  },
  {
   "cell_type": "markdown",
   "metadata": {},
   "source": [
    "Um zu errechen wie viele Schulen für eine jeweilige Kategorie Aktivitäten anbieten, nutzen wir die Pivot-Funktion. *(pivot_table())*. Mit der Funktion gruppieren wir die Aktivitäten nach ihren Kategorien. Teilt man diese Werte (hier unter Id) durch die Gesamtanzahl der Schulen, erhalten wir den prozentualen Anteil An Schulen die Aktivitäten in einer Kategorie anbieten.\n"
   ]
  },
  {
   "cell_type": "markdown",
   "metadata": {
    "collapsed": true
   },
   "source": [
    "### 2. Auswertung der Schulpartnerschaften in Berlin"
   ]
  },
  {
   "cell_type": "code",
   "execution_count": 18,
   "metadata": {
    "collapsed": true
   },
   "outputs": [],
   "source": [
    "df_Berlin = pd.read_csv('../partner_berlin.csv', sep=';')"
   ]
  },
  {
   "cell_type": "code",
   "execution_count": 19,
   "metadata": {
    "collapsed": false
   },
   "outputs": [
    {
     "data": {
      "text/html": [
       "<div>\n",
       "<table border=\"1\" class=\"dataframe\">\n",
       "  <thead>\n",
       "    <tr style=\"text-align: right;\">\n",
       "      <th></th>\n",
       "      <th>Schule</th>\n",
       "      <th>ID</th>\n",
       "      <th>school_type</th>\n",
       "      <th>Partner_name</th>\n",
       "      <th>Type_grob</th>\n",
       "      <th>Type_mittel</th>\n",
       "      <th>Type_detail</th>\n",
       "    </tr>\n",
       "  </thead>\n",
       "  <tbody>\n",
       "    <tr>\n",
       "      <th>0</th>\n",
       "      <td>OSZ Informations- und Medizintechnik</td>\n",
       "      <td>BE-15754</td>\n",
       "      <td>Berufliches Gymnasium</td>\n",
       "      <td>AAP-Programm</td>\n",
       "      <td>Unbestimmt</td>\n",
       "      <td>Modell/Förderprogramm/Projekt</td>\n",
       "      <td>NaN</td>\n",
       "    </tr>\n",
       "    <tr>\n",
       "      <th>1</th>\n",
       "      <td>OSZ Informations- und Medizintechnik</td>\n",
       "      <td>BE-15754</td>\n",
       "      <td>Berufliches Gymnasium</td>\n",
       "      <td>Arbeitskreis Medizintechnik Berlin-Brandenburg</td>\n",
       "      <td>Öffentliche Infrastruktur</td>\n",
       "      <td>Öffentliche Infrastruktur (Bildung/Uni/Hochsch...</td>\n",
       "      <td>NaN</td>\n",
       "    </tr>\n",
       "    <tr>\n",
       "      <th>2</th>\n",
       "      <td>OSZ Handel 1</td>\n",
       "      <td>BE-16262</td>\n",
       "      <td>Berufliches Gymnasium</td>\n",
       "      <td>Ausbildungszentrum ROC Nijmegen</td>\n",
       "      <td>Öffentliche Infrastruktur</td>\n",
       "      <td>Familien-/Bildungs-/Kulturzentrum</td>\n",
       "      <td>NaN</td>\n",
       "    </tr>\n",
       "    <tr>\n",
       "      <th>3</th>\n",
       "      <td>OSZ Informations- und Medizintechnik</td>\n",
       "      <td>BE-15754</td>\n",
       "      <td>Berufliches Gymnasium</td>\n",
       "      <td>Baumann Bildung &amp; Qualifizierung (BBQ)</td>\n",
       "      <td>Wirtschaftsakteur</td>\n",
       "      <td>Wirtschaftsakteur (Bildung)</td>\n",
       "      <td>NaN</td>\n",
       "    </tr>\n",
       "    <tr>\n",
       "      <th>4</th>\n",
       "      <td>Louise-Schroeder-Schule (OSZ Bürowirtschaft un...</td>\n",
       "      <td>BE-15687</td>\n",
       "      <td>Berufliches Gymnasium</td>\n",
       "      <td>Bildung für Berlin und Brandenburg e.V.</td>\n",
       "      <td>Gemeinnütziger Akteur</td>\n",
       "      <td>Gemeinnütziger Akteur</td>\n",
       "      <td>Verein</td>\n",
       "    </tr>\n",
       "  </tbody>\n",
       "</table>\n",
       "</div>"
      ],
      "text/plain": [
       "                                              Schule        ID  \\\n",
       "0               OSZ Informations- und Medizintechnik  BE-15754   \n",
       "1               OSZ Informations- und Medizintechnik  BE-15754   \n",
       "2                                       OSZ Handel 1  BE-16262   \n",
       "3               OSZ Informations- und Medizintechnik  BE-15754   \n",
       "4  Louise-Schroeder-Schule (OSZ Bürowirtschaft un...  BE-15687   \n",
       "\n",
       "             school_type                                    Partner_name  \\\n",
       "0  Berufliches Gymnasium                                    AAP-Programm   \n",
       "1  Berufliches Gymnasium  Arbeitskreis Medizintechnik Berlin-Brandenburg   \n",
       "2  Berufliches Gymnasium                 Ausbildungszentrum ROC Nijmegen   \n",
       "3  Berufliches Gymnasium          Baumann Bildung & Qualifizierung (BBQ)   \n",
       "4  Berufliches Gymnasium         Bildung für Berlin und Brandenburg e.V.   \n",
       "\n",
       "                   Type_grob  \\\n",
       "0                 Unbestimmt   \n",
       "1  Öffentliche Infrastruktur   \n",
       "2  Öffentliche Infrastruktur   \n",
       "3          Wirtschaftsakteur   \n",
       "4      Gemeinnütziger Akteur   \n",
       "\n",
       "                                         Type_mittel Type_detail  \n",
       "0                      Modell/Förderprogramm/Projekt         NaN  \n",
       "1  Öffentliche Infrastruktur (Bildung/Uni/Hochsch...         NaN  \n",
       "2                  Familien-/Bildungs-/Kulturzentrum         NaN  \n",
       "3                        Wirtschaftsakteur (Bildung)         NaN  \n",
       "4                              Gemeinnütziger Akteur      Verein  "
      ]
     },
     "execution_count": 19,
     "metadata": {},
     "output_type": "execute_result"
    }
   ],
   "source": [
    "df_Berlin.head(5)"
   ]
  },
  {
   "cell_type": "markdown",
   "metadata": {},
   "source": [
    "Auch hier ist es zunächst sinnvoll,einen Blick in die Daten zu werfen."
   ]
  },
  {
   "cell_type": "code",
   "execution_count": 35,
   "metadata": {
    "collapsed": false
   },
   "outputs": [
    {
     "data": {
      "text/html": [
       "<div>\n",
       "<table border=\"1\" class=\"dataframe\">\n",
       "  <thead>\n",
       "    <tr style=\"text-align: right;\">\n",
       "      <th></th>\n",
       "      <th>Schule</th>\n",
       "      <th>ID</th>\n",
       "      <th>school_type</th>\n",
       "      <th>Partner_name</th>\n",
       "      <th>Type_grob</th>\n",
       "      <th>Type_mittel</th>\n",
       "      <th>Type_detail</th>\n",
       "      <th>Schooltype_broad</th>\n",
       "    </tr>\n",
       "  </thead>\n",
       "  <tbody>\n",
       "    <tr>\n",
       "      <th>count</th>\n",
       "      <td>2976</td>\n",
       "      <td>2976</td>\n",
       "      <td>2976</td>\n",
       "      <td>2975</td>\n",
       "      <td>2976</td>\n",
       "      <td>2976</td>\n",
       "      <td>1598</td>\n",
       "      <td>2917</td>\n",
       "    </tr>\n",
       "    <tr>\n",
       "      <th>unique</th>\n",
       "      <td>411</td>\n",
       "      <td>411</td>\n",
       "      <td>15</td>\n",
       "      <td>2123</td>\n",
       "      <td>7</td>\n",
       "      <td>23</td>\n",
       "      <td>23</td>\n",
       "      <td>6</td>\n",
       "    </tr>\n",
       "    <tr>\n",
       "      <th>top</th>\n",
       "      <td>Albrecht-von-Graefe-Schule (Integrierte Sekund...</td>\n",
       "      <td>BE-16610</td>\n",
       "      <td>Grundschule</td>\n",
       "      <td>Verein Berliner Kaufleute und Industrieller (V...</td>\n",
       "      <td>Gemeinnütziger Akteur</td>\n",
       "      <td>Gemeinnütziger Akteur</td>\n",
       "      <td>Verein</td>\n",
       "      <td>Grundschule</td>\n",
       "    </tr>\n",
       "    <tr>\n",
       "      <th>freq</th>\n",
       "      <td>25</td>\n",
       "      <td>25</td>\n",
       "      <td>1127</td>\n",
       "      <td>29</td>\n",
       "      <td>1097</td>\n",
       "      <td>983</td>\n",
       "      <td>830</td>\n",
       "      <td>1127</td>\n",
       "    </tr>\n",
       "  </tbody>\n",
       "</table>\n",
       "</div>"
      ],
      "text/plain": [
       "                                                   Schule        ID  \\\n",
       "count                                                2976      2976   \n",
       "unique                                                411       411   \n",
       "top     Albrecht-von-Graefe-Schule (Integrierte Sekund...  BE-16610   \n",
       "freq                                                   25        25   \n",
       "\n",
       "        school_type                                       Partner_name  \\\n",
       "count          2976                                               2975   \n",
       "unique           15                                               2123   \n",
       "top     Grundschule  Verein Berliner Kaufleute und Industrieller (V...   \n",
       "freq           1127                                                 29   \n",
       "\n",
       "                    Type_grob            Type_mittel Type_detail  \\\n",
       "count                    2976                   2976        1598   \n",
       "unique                      7                     23          23   \n",
       "top     Gemeinnütziger Akteur  Gemeinnütziger Akteur      Verein   \n",
       "freq                     1097                    983         830   \n",
       "\n",
       "       Schooltype_broad  \n",
       "count              2917  \n",
       "unique                6  \n",
       "top         Grundschule  \n",
       "freq               1127  "
      ]
     },
     "execution_count": 35,
     "metadata": {},
     "output_type": "execute_result"
    }
   ],
   "source": [
    "df_Berlin.describe(include='all')"
   ]
  },
  {
   "cell_type": "markdown",
   "metadata": {},
   "source": [
    "Über die *'describe()'* Funktion bekommen wir die Anzahl der Partnerschaften (2976) sowie die Anzahl der Schulen (411)"
   ]
  },
  {
   "cell_type": "code",
   "execution_count": 72,
   "metadata": {
    "collapsed": false
   },
   "outputs": [
    {
     "data": {
      "text/html": [
       "<div>\n",
       "<table border=\"1\" class=\"dataframe\">\n",
       "  <thead>\n",
       "    <tr style=\"text-align: right;\">\n",
       "      <th></th>\n",
       "      <th>Partner_name</th>\n",
       "      <th>Verteilung</th>\n",
       "    </tr>\n",
       "    <tr>\n",
       "      <th>Type_grob</th>\n",
       "      <th></th>\n",
       "      <th></th>\n",
       "    </tr>\n",
       "  </thead>\n",
       "  <tbody>\n",
       "    <tr>\n",
       "      <th>Gemeinnütziger Akteur</th>\n",
       "      <td>1097</td>\n",
       "      <td>0.3687</td>\n",
       "    </tr>\n",
       "    <tr>\n",
       "      <th>Öffentliche Infrastruktur</th>\n",
       "      <td>886</td>\n",
       "      <td>0.2978</td>\n",
       "    </tr>\n",
       "    <tr>\n",
       "      <th>Wirtschaftsakteur</th>\n",
       "      <td>551</td>\n",
       "      <td>0.1852</td>\n",
       "    </tr>\n",
       "    <tr>\n",
       "      <th>Partnerschule</th>\n",
       "      <td>246</td>\n",
       "      <td>0.0827</td>\n",
       "    </tr>\n",
       "    <tr>\n",
       "      <th>Unbestimmt</th>\n",
       "      <td>119</td>\n",
       "      <td>0.0400</td>\n",
       "    </tr>\n",
       "    <tr>\n",
       "      <th>Religiöse Einrichtung</th>\n",
       "      <td>42</td>\n",
       "      <td>0.0141</td>\n",
       "    </tr>\n",
       "    <tr>\n",
       "      <th>Verband / Kammer / Innung / Gewerkschaft</th>\n",
       "      <td>34</td>\n",
       "      <td>0.0114</td>\n",
       "    </tr>\n",
       "  </tbody>\n",
       "</table>\n",
       "</div>"
      ],
      "text/plain": [
       "                                          Partner_name  Verteilung\n",
       "Type_grob                                                         \n",
       "Gemeinnütziger Akteur                             1097      0.3687\n",
       "Öffentliche Infrastruktur                          886      0.2978\n",
       "Wirtschaftsakteur                                  551      0.1852\n",
       "Partnerschule                                      246      0.0827\n",
       "Unbestimmt                                         119      0.0400\n",
       "Religiöse Einrichtung                               42      0.0141\n",
       "Verband / Kammer / Innung / Gewerkschaft            34      0.0114"
      ]
     },
     "execution_count": 72,
     "metadata": {},
     "output_type": "execute_result"
    }
   ],
   "source": [
    "Typ_Partner = pd.DataFrame(df_Berlin.Type_grob.value_counts())\n",
    "Typ_Partner = pd.DataFrame(pd.pivot_table(df_Berlin,index=['Type_grob'],values='Partner_name', aggfunc='count'))\n",
    "Typ_Partner['Verteilung'] = (Typ_Partner / sum(Typ_Partner.Partner_name)).round(4)\n",
    "Typ_Partner.sort_values(by='Partner_name', ascending=False)"
   ]
  },
  {
   "cell_type": "code",
   "execution_count": 36,
   "metadata": {
    "collapsed": true
   },
   "outputs": [],
   "source": [
    "Schulkategorien = {'Grundschule' : [' Grundschule',\n",
    "                                     'Grundschule'],\n",
    "                    'Sekundarschule' : ['Integrierte Sekundarschule',\n",
    "                                        ],\n",
    "                    'Berufliche Schule' : ['Berufsfachschule',\n",
    "                                           'Berufsoberschule',\n",
    "                                           'Berufsschule',\n",
    "                                           'Berufsschule mit sonderpäd. Aufgaben',\n",
    "                                           'Fachoberschule',\n",
    "                                           'Fachschule'],\n",
    "                    'Förderschulen' : ['Förderschwerp.\"Geistige Entwicklung\"',\n",
    "                                       'Förderschwerp.\"Lernen\"',\n",
    "                                       'Übrige Förderschwerpunkte'\n",
    "                                       ],\n",
    "                    'Sonstige' :['Freie Waldorfschule',\n",
    "                                 'Sonstige Ergänzungsschule',\n",
    "                                 ],\n",
    "                   \n",
    "                   'Gymnasium' : ['Berufliches Gymnasium',\n",
    "                                  'Gymnasien']\n",
    "                   \n",
    "                   }"
   ]
  },
  {
   "cell_type": "markdown",
   "metadata": {},
   "source": [
    "Um die unterschiedlichen Schultypen zu vereinheitlichen, ordnen wir diese in 6 Kategorien ein: Grundschule, Sekundarschule, Berufliche Schule, Förderschulen, Gymnasium, Sonstige. Dazu erstellen wir das Dictionary: Schulkategorien."
   ]
  },
  {
   "cell_type": "code",
   "execution_count": 37,
   "metadata": {
    "collapsed": true
   },
   "outputs": [],
   "source": [
    "def check_up_Schultyp(schooltyp):\n",
    "    for key, value in Schulkategorien.items():\n",
    "        for a in value:\n",
    "            if a in str(schooltyp):\n",
    "                return(key)"
   ]
  },
  {
   "cell_type": "code",
   "execution_count": 38,
   "metadata": {
    "collapsed": false
   },
   "outputs": [],
   "source": [
    "# Hier mappen wir die einzelnen Schultypen auf die 6 Schultypkategorien und säubern leere Zeilen aus.\n",
    "df_Berlin['Schooltype_broad'] = df_Berlin.school_type.apply(check_up_Schultyp)"
   ]
  },
  {
   "cell_type": "code",
   "execution_count": 39,
   "metadata": {
    "collapsed": false
   },
   "outputs": [
    {
     "data": {
      "text/plain": [
       "7.238442822384428"
      ]
     },
     "execution_count": 39,
     "metadata": {},
     "output_type": "execute_result"
    }
   ],
   "source": [
    "#Durchscnittliche Anzahl an Partnerschaften pro Schule\n",
    "len(Berlin_unique) / len(Berlin_unique.ID.unique())"
   ]
  },
  {
   "cell_type": "code",
   "execution_count": 40,
   "metadata": {
    "collapsed": true
   },
   "outputs": [],
   "source": [
    "Partner_Schulen = pd.DataFrame(pd.pivot_table(df_Berlin,index=['Schooltype_broad'],values='school_type',columns='Type_grob', aggfunc='count'))\n",
    "Partner_Schulen = Partner_Schulen.fillna(0)"
   ]
  },
  {
   "cell_type": "code",
   "execution_count": 59,
   "metadata": {
    "collapsed": false
   },
   "outputs": [
    {
     "data": {
      "text/html": [
       "<div>\n",
       "<table border=\"1\" class=\"dataframe\">\n",
       "  <thead>\n",
       "    <tr style=\"text-align: right;\">\n",
       "      <th></th>\n",
       "      <th>Schule</th>\n",
       "      <th>ID</th>\n",
       "      <th>school_type</th>\n",
       "      <th>Partner_name</th>\n",
       "      <th>Type_grob</th>\n",
       "      <th>Type_mittel</th>\n",
       "      <th>Type_detail</th>\n",
       "      <th>Schooltype_broad</th>\n",
       "    </tr>\n",
       "  </thead>\n",
       "  <tbody>\n",
       "    <tr>\n",
       "      <th>0</th>\n",
       "      <td>OSZ Informations- und Medizintechnik</td>\n",
       "      <td>BE-15754</td>\n",
       "      <td>Berufliches Gymnasium</td>\n",
       "      <td>AAP-Programm</td>\n",
       "      <td>Unbestimmt</td>\n",
       "      <td>Modell/Förderprogramm/Projekt</td>\n",
       "      <td>NaN</td>\n",
       "      <td>Gymnasium</td>\n",
       "    </tr>\n",
       "    <tr>\n",
       "      <th>1</th>\n",
       "      <td>OSZ Informations- und Medizintechnik</td>\n",
       "      <td>BE-15754</td>\n",
       "      <td>Berufliches Gymnasium</td>\n",
       "      <td>Arbeitskreis Medizintechnik Berlin-Brandenburg</td>\n",
       "      <td>Öffentliche Infrastruktur</td>\n",
       "      <td>Öffentliche Infrastruktur (Bildung/Uni/Hochsch...</td>\n",
       "      <td>NaN</td>\n",
       "      <td>Gymnasium</td>\n",
       "    </tr>\n",
       "  </tbody>\n",
       "</table>\n",
       "</div>"
      ],
      "text/plain": [
       "                                 Schule        ID            school_type  \\\n",
       "0  OSZ Informations- und Medizintechnik  BE-15754  Berufliches Gymnasium   \n",
       "1  OSZ Informations- und Medizintechnik  BE-15754  Berufliches Gymnasium   \n",
       "\n",
       "                                     Partner_name                  Type_grob  \\\n",
       "0                                    AAP-Programm                 Unbestimmt   \n",
       "1  Arbeitskreis Medizintechnik Berlin-Brandenburg  Öffentliche Infrastruktur   \n",
       "\n",
       "                                         Type_mittel Type_detail  \\\n",
       "0                      Modell/Förderprogramm/Projekt         NaN   \n",
       "1  Öffentliche Infrastruktur (Bildung/Uni/Hochsch...         NaN   \n",
       "\n",
       "  Schooltype_broad  \n",
       "0        Gymnasium  \n",
       "1        Gymnasium  "
      ]
     },
     "execution_count": 59,
     "metadata": {},
     "output_type": "execute_result"
    }
   ],
   "source": [
    "df_Berlin.head(2)"
   ]
  },
  {
   "cell_type": "markdown",
   "metadata": {},
   "source": [
    "#### Wie viele Akteure für die jeweilige Kategorie kommen auf  eine Schule in Berlin?"
   ]
  },
  {
   "cell_type": "code",
   "execution_count": 61,
   "metadata": {
    "collapsed": false
   },
   "outputs": [],
   "source": [
    "dftyp = df_Berlin.drop_duplicates(subset=['ID','school_type'])\n",
    "dftyp = pd.DataFrame(dftyp.Schooltype_broad.value_counts())"
   ]
  },
  {
   "cell_type": "code",
   "execution_count": 62,
   "metadata": {
    "collapsed": false
   },
   "outputs": [
    {
     "data": {
      "text/html": [
       "<div>\n",
       "<table border=\"1\" class=\"dataframe\">\n",
       "  <thead>\n",
       "    <tr style=\"text-align: right;\">\n",
       "      <th></th>\n",
       "      <th>Schooltype_broad</th>\n",
       "    </tr>\n",
       "  </thead>\n",
       "  <tbody>\n",
       "    <tr>\n",
       "      <th>Grundschule</th>\n",
       "      <td>164</td>\n",
       "    </tr>\n",
       "    <tr>\n",
       "      <th>Sekundarschule</th>\n",
       "      <td>99</td>\n",
       "    </tr>\n",
       "    <tr>\n",
       "      <th>Gymnasium</th>\n",
       "      <td>92</td>\n",
       "    </tr>\n",
       "    <tr>\n",
       "      <th>Berufliche Schule</th>\n",
       "      <td>36</td>\n",
       "    </tr>\n",
       "    <tr>\n",
       "      <th>Förderschulen</th>\n",
       "      <td>5</td>\n",
       "    </tr>\n",
       "    <tr>\n",
       "      <th>Sonstige</th>\n",
       "      <td>4</td>\n",
       "    </tr>\n",
       "  </tbody>\n",
       "</table>\n",
       "</div>"
      ],
      "text/plain": [
       "                   Schooltype_broad\n",
       "Grundschule                     164\n",
       "Sekundarschule                   99\n",
       "Gymnasium                        92\n",
       "Berufliche Schule                36\n",
       "Förderschulen                     5\n",
       "Sonstige                          4"
      ]
     },
     "execution_count": 62,
     "metadata": {},
     "output_type": "execute_result"
    }
   ],
   "source": [
    "dftyp"
   ]
  },
  {
   "cell_type": "markdown",
   "metadata": {},
   "source": [
    "Hier errechnen wir die Anzahl der Schulen in Berlin für jeden Schultyp."
   ]
  },
  {
   "cell_type": "code",
   "execution_count": 73,
   "metadata": {
    "collapsed": false
   },
   "outputs": [],
   "source": [
    "Partner_Schulen['Schulanzahl'] = dftyp"
   ]
  },
  {
   "cell_type": "markdown",
   "metadata": {},
   "source": [
    "Anschließend fügen wir die Anzahl der Schulen pro Schultyp an das zuvorerstellte Dataframe mit der Anzahl der Partnerschaften pro Schultyp."
   ]
  },
  {
   "cell_type": "code",
   "execution_count": 74,
   "metadata": {
    "collapsed": false
   },
   "outputs": [
    {
     "data": {
      "text/html": [
       "<div>\n",
       "<table border=\"1\" class=\"dataframe\">\n",
       "  <thead>\n",
       "    <tr style=\"text-align: right;\">\n",
       "      <th>Type_grob</th>\n",
       "      <th>Gemeinnütziger Akteur</th>\n",
       "      <th>Partnerschule</th>\n",
       "      <th>Religiöse Einrichtung</th>\n",
       "      <th>Unbestimmt</th>\n",
       "      <th>Verband / Kammer / Innung / Gewerkschaft</th>\n",
       "      <th>Wirtschaftsakteur</th>\n",
       "      <th>Öffentliche Infrastruktur</th>\n",
       "    </tr>\n",
       "    <tr>\n",
       "      <th>Schooltype_broad</th>\n",
       "      <th></th>\n",
       "      <th></th>\n",
       "      <th></th>\n",
       "      <th></th>\n",
       "      <th></th>\n",
       "      <th></th>\n",
       "      <th></th>\n",
       "    </tr>\n",
       "  </thead>\n",
       "  <tbody>\n",
       "    <tr>\n",
       "      <th>Berufliche Schule</th>\n",
       "      <td>1.250000</td>\n",
       "      <td>0.250000</td>\n",
       "      <td>0.111111</td>\n",
       "      <td>0.555556</td>\n",
       "      <td>0.277778</td>\n",
       "      <td>1.638889</td>\n",
       "      <td>1.194444</td>\n",
       "    </tr>\n",
       "    <tr>\n",
       "      <th>Förderschulen</th>\n",
       "      <td>1.800000</td>\n",
       "      <td>0.200000</td>\n",
       "      <td>0.000000</td>\n",
       "      <td>0.000000</td>\n",
       "      <td>0.000000</td>\n",
       "      <td>1.000000</td>\n",
       "      <td>1.200000</td>\n",
       "    </tr>\n",
       "    <tr>\n",
       "      <th>Grundschule</th>\n",
       "      <td>3.054878</td>\n",
       "      <td>0.164634</td>\n",
       "      <td>0.091463</td>\n",
       "      <td>0.231707</td>\n",
       "      <td>0.018293</td>\n",
       "      <td>0.810976</td>\n",
       "      <td>2.500000</td>\n",
       "    </tr>\n",
       "    <tr>\n",
       "      <th>Gymnasium</th>\n",
       "      <td>1.619565</td>\n",
       "      <td>1.826087</td>\n",
       "      <td>0.130435</td>\n",
       "      <td>0.293478</td>\n",
       "      <td>0.097826</td>\n",
       "      <td>1.358696</td>\n",
       "      <td>2.293478</td>\n",
       "    </tr>\n",
       "    <tr>\n",
       "      <th>Sekundarschule</th>\n",
       "      <td>3.646465</td>\n",
       "      <td>0.373737</td>\n",
       "      <td>0.070707</td>\n",
       "      <td>0.343434</td>\n",
       "      <td>0.111111</td>\n",
       "      <td>2.141414</td>\n",
       "      <td>2.040404</td>\n",
       "    </tr>\n",
       "    <tr>\n",
       "      <th>Sonstige</th>\n",
       "      <td>0.500000</td>\n",
       "      <td>0.500000</td>\n",
       "      <td>0.250000</td>\n",
       "      <td>0.000000</td>\n",
       "      <td>0.000000</td>\n",
       "      <td>1.750000</td>\n",
       "      <td>0.500000</td>\n",
       "    </tr>\n",
       "  </tbody>\n",
       "</table>\n",
       "</div>"
      ],
      "text/plain": [
       "Type_grob          Gemeinnütziger Akteur  Partnerschule  \\\n",
       "Schooltype_broad                                          \n",
       "Berufliche Schule               1.250000       0.250000   \n",
       "Förderschulen                   1.800000       0.200000   \n",
       "Grundschule                     3.054878       0.164634   \n",
       "Gymnasium                       1.619565       1.826087   \n",
       "Sekundarschule                  3.646465       0.373737   \n",
       "Sonstige                        0.500000       0.500000   \n",
       "\n",
       "Type_grob          Religiöse Einrichtung  Unbestimmt  \\\n",
       "Schooltype_broad                                       \n",
       "Berufliche Schule               0.111111    0.555556   \n",
       "Förderschulen                   0.000000    0.000000   \n",
       "Grundschule                     0.091463    0.231707   \n",
       "Gymnasium                       0.130435    0.293478   \n",
       "Sekundarschule                  0.070707    0.343434   \n",
       "Sonstige                        0.250000    0.000000   \n",
       "\n",
       "Type_grob          Verband / Kammer / Innung / Gewerkschaft  \\\n",
       "Schooltype_broad                                              \n",
       "Berufliche Schule                                  0.277778   \n",
       "Förderschulen                                      0.000000   \n",
       "Grundschule                                        0.018293   \n",
       "Gymnasium                                          0.097826   \n",
       "Sekundarschule                                     0.111111   \n",
       "Sonstige                                           0.000000   \n",
       "\n",
       "Type_grob          Wirtschaftsakteur  Öffentliche Infrastruktur  \n",
       "Schooltype_broad                                                 \n",
       "Berufliche Schule           1.638889                   1.194444  \n",
       "Förderschulen               1.000000                   1.200000  \n",
       "Grundschule                 0.810976                   2.500000  \n",
       "Gymnasium                   1.358696                   2.293478  \n",
       "Sekundarschule              2.141414                   2.040404  \n",
       "Sonstige                    1.750000                   0.500000  "
      ]
     },
     "execution_count": 74,
     "metadata": {},
     "output_type": "execute_result"
    }
   ],
   "source": [
    "Partner_Schulen[['Gemeinnütziger Akteur','Partnerschule','Religiöse Einrichtung', 'Unbestimmt', 'Verband / Kammer / Innung / Gewerkschaft', 'Wirtschaftsakteur', 'Öffentliche Infrastruktur']].div(Partner_Schulen.Schulanzahl, axis=0)"
   ]
  },
  {
   "cell_type": "markdown",
   "metadata": {},
   "source": [
    "Anschließend teilen wir die Anzahl der Partnerschaften pro Akteurskategorie durch die jeweilige Anzahl der Schulen pro Schultyp. Die obenstehende Tabelle zeigt also für jeden Schultyp wie viele Partnerschaften sie durchschnittlich pro Akteurskategorie eingeht."
   ]
  }
 ],
 "metadata": {
  "kernelspec": {
   "display_name": "Python 3",
   "language": "python",
   "name": "python3"
  },
  "language_info": {
   "codemirror_mode": {
    "name": "ipython",
    "version": 3
   },
   "file_extension": ".py",
   "mimetype": "text/x-python",
   "name": "python",
   "nbconvert_exporter": "python",
   "pygments_lexer": "ipython3",
   "version": "3.5.2"
  }
 },
 "nbformat": 4,
 "nbformat_minor": 1
}
